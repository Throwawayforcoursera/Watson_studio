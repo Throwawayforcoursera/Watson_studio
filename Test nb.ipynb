{
    "cells": [
        {
            "cell_type": "markdown",
            "metadata": {},
            "source": "# My Jupyter notebook on Watson studio"
        },
        {
            "cell_type": "markdown",
            "metadata": {},
            "source": "**MY NAME** \n\nCurrent occcupation"
        },
        {
            "cell_type": "markdown",
            "metadata": {},
            "source": "*I am interested in data science because...*"
        },
        {
            "cell_type": "markdown",
            "metadata": {},
            "source": "### This is just a test"
        },
        {
            "cell_type": "code",
            "execution_count": 2,
            "metadata": {},
            "outputs": [
                {
                    "data": {
                        "text/plain": "2"
                    },
                    "execution_count": 2,
                    "metadata": {},
                    "output_type": "execute_result"
                }
            ],
            "source": "#Simple math\n\n1+1"
        }
    ],
    "metadata": {
        "kernelspec": {
            "display_name": "Python 3.10",
            "language": "python",
            "name": "python3"
        },
        "language_info": {
            "codemirror_mode": {
                "name": "ipython",
                "version": 3
            },
            "file_extension": ".py",
            "mimetype": "text/x-python",
            "name": "python",
            "nbconvert_exporter": "python",
            "pygments_lexer": "ipython3",
            "version": "3.10.13"
        }
    },
    "nbformat": 4,
    "nbformat_minor": 1
}